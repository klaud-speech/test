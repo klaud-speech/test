{
  "cells": [
    {
      "cell_type": "markdown",
      "metadata": {
        "id": "y9S3WakOwTmC"
      },
      "source": [
        "# Introduction to Keras for engineers\n",
        "\n",
        "**Author:** [fchollet](https://twitter.com/fchollet)<br>\n",
        "**Date created:** 2023/07/10<br>\n",
        "**Last modified:** 2023/07/10<br>\n",
        "**Description:** First contact with Keras 3."
      ]
    },
    {
      "cell_type": "markdown",
      "metadata": {
        "id": "HJ5u01QAwTmE"
      },
      "source": [
        "## Introduction\n",
        "\n",
        "Keras 3 is a deep learning framework\n",
        "works with TensorFlow, JAX, and PyTorch interchangeably.\n",
        "This notebook will walk you through key Keras 3 workflows.\n",
        "\n",
        "Let's start by installing Keras 3:"
      ]
    },
    {
      "cell_type": "code",
      "execution_count": 1,
      "metadata": {
        "colab": {
          "base_uri": "https://localhost:8080/"
        },
        "id": "t5eYtPMUwTmF",
        "outputId": "03674f5d-a2d2-4c04-cb2d-71a2d4ac972e"
      },
      "outputs": [
        {
          "output_type": "stream",
          "name": "stdout",
          "text": [
            "\u001b[?25l     \u001b[90m━━━━━━━━━━━━━━━━━━━━━━━━━━━━━━━━━━━━━━━━\u001b[0m \u001b[32m0.0/47.8 kB\u001b[0m \u001b[31m?\u001b[0m eta \u001b[36m-:--:--\u001b[0m\r\u001b[2K     \u001b[90m━━━━━━━━━━━━━━━━━━━━━━━━━━━━━━━━━━━━━━━━\u001b[0m \u001b[32m47.8/47.8 kB\u001b[0m \u001b[31m1.9 MB/s\u001b[0m eta \u001b[36m0:00:00\u001b[0m\n",
            "\u001b[2K   \u001b[90m━━━━━━━━━━━━━━━━━━━━━━━━━━━━━━━━━━━━━━━━\u001b[0m \u001b[32m1.1/1.1 MB\u001b[0m \u001b[31m19.8 MB/s\u001b[0m eta \u001b[36m0:00:00\u001b[0m\n",
            "\u001b[2K   \u001b[90m━━━━━━━━━━━━━━━━━━━━━━━━━━━━━━━━━━━━━━━━\u001b[0m \u001b[32m347.7/347.7 kB\u001b[0m \u001b[31m17.3 MB/s\u001b[0m eta \u001b[36m0:00:00\u001b[0m\n",
            "\u001b[?25h\u001b[31mERROR: pip's dependency resolver does not currently take into account all the packages that are installed. This behaviour is the source of the following dependency conflicts.\n",
            "tensorflow 2.15.0 requires keras<2.16,>=2.15.0, but you have keras 3.4.1 which is incompatible.\u001b[0m\u001b[31m\n",
            "\u001b[0m"
          ]
        }
      ],
      "source": [
        "!pip install keras --upgrade --quiet"
      ]
    },
    {
      "cell_type": "markdown",
      "metadata": {
        "id": "nUaU11DRwTmF"
      },
      "source": [
        "## Setup\n",
        "\n",
        "We're going to be using the JAX backend here -- but you can\n",
        "edit the string below to `\"tensorflow\"` or `\"torch\"` and hit\n",
        "\"Restart runtime\", and the whole notebook will run just the same!\n",
        "This entire guide is backend-agnostic."
      ]
    },
    {
      "cell_type": "code",
      "execution_count": 2,
      "metadata": {
        "id": "1D1xWn7UwTmG"
      },
      "outputs": [],
      "source": [
        "import numpy as np\n",
        "import os\n",
        "\n",
        "os.environ[\"KERAS_BACKEND\"] = \"jax\"\n",
        "\n",
        "# Note that Keras should only be imported after the backend\n",
        "# has been configured. The backend cannot be changed once the\n",
        "# package is imported.\n",
        "import keras"
      ]
    },
    {
      "cell_type": "markdown",
      "metadata": {
        "id": "kLW7eeekwTmG"
      },
      "source": [
        "## A first example: A MNIST convnet\n",
        "\n",
        "Let's start with the Hello World of ML: training a convnet\n",
        "to classify MNIST digits.\n",
        "\n",
        "Here's the data:"
      ]
    },
    {
      "cell_type": "code",
      "execution_count": 3,
      "metadata": {
        "colab": {
          "base_uri": "https://localhost:8080/"
        },
        "id": "gsBc-zRwwTmG",
        "outputId": "6700384b-13de-412e-9647-61c8a8ea65f7"
      },
      "outputs": [
        {
          "output_type": "stream",
          "name": "stdout",
          "text": [
            "Downloading data from https://storage.googleapis.com/tensorflow/tf-keras-datasets/mnist.npz\n",
            "\u001b[1m11490434/11490434\u001b[0m \u001b[32m━━━━━━━━━━━━━━━━━━━━\u001b[0m\u001b[37m\u001b[0m \u001b[1m2s\u001b[0m 0us/step\n",
            "x_train shape: (60000, 28, 28, 1)\n",
            "y_train shape: (60000,)\n",
            "60000 train samples\n",
            "10000 test samples\n"
          ]
        }
      ],
      "source": [
        "# Load the data and split it between train and test sets\n",
        "(x_train, y_train), (x_test, y_test) = keras.datasets.mnist.load_data()\n",
        "\n",
        "# Scale images to the [0, 1] range\n",
        "x_train = x_train.astype(\"float32\") / 255\n",
        "x_test = x_test.astype(\"float32\") / 255\n",
        "# Make sure images have shape (28, 28, 1)\n",
        "x_train = np.expand_dims(x_train, -1)\n",
        "x_test = np.expand_dims(x_test, -1)\n",
        "print(\"x_train shape:\", x_train.shape)\n",
        "print(\"y_train shape:\", y_train.shape)\n",
        "print(x_train.shape[0], \"train samples\")\n",
        "print(x_test.shape[0], \"test samples\")"
      ]
    },
    {
      "cell_type": "markdown",
      "metadata": {
        "id": "WTPavp72wTmG"
      },
      "source": [
        "Here's our model.\n",
        "\n",
        "Different model-building options that Keras offers include:\n",
        "\n",
        "- [The Sequential API](https://keras.io/guides/sequential_model/) (what we use below)\n",
        "- [The Functional API](https://keras.io/guides/functional_api/) (most typical)\n",
        "- [Writing your own models yourself via subclassing](https://keras.io/guides/making_new_layers_and_models_via_subclassing/) (for advanced use cases)"
      ]
    },
    {
      "cell_type": "code",
      "execution_count": 4,
      "metadata": {
        "id": "chQdT6B6wTmG"
      },
      "outputs": [],
      "source": [
        "# Model parameters\n",
        "num_classes = 10\n",
        "input_shape = (28, 28, 1)\n",
        "\n",
        "model = keras.Sequential(\n",
        "    [\n",
        "        keras.layers.Input(shape=input_shape),\n",
        "        keras.layers.Conv2D(64, kernel_size=(3, 3), activation=\"relu\"),\n",
        "        keras.layers.Conv2D(64, kernel_size=(3, 3), activation=\"relu\"),\n",
        "        keras.layers.MaxPooling2D(pool_size=(2, 2)),\n",
        "        keras.layers.Conv2D(128, kernel_size=(3, 3), activation=\"relu\"),\n",
        "        keras.layers.Conv2D(128, kernel_size=(3, 3), activation=\"relu\"),\n",
        "        keras.layers.GlobalAveragePooling2D(),\n",
        "        keras.layers.Dropout(0.5),\n",
        "        keras.layers.Dense(num_classes, activation=\"softmax\"),\n",
        "    ]\n",
        ")"
      ]
    },
    {
      "cell_type": "markdown",
      "metadata": {
        "id": "ZocTAvCqwTmH"
      },
      "source": [
        "Here's our model summary:"
      ]
    },
    {
      "cell_type": "code",
      "execution_count": 5,
      "metadata": {
        "colab": {
          "base_uri": "https://localhost:8080/",
          "height": 425
        },
        "id": "M7k7_gAVwTmH",
        "outputId": "e03c3c97-76d3-44fa-9548-3fa9d79b7399"
      },
      "outputs": [
        {
          "output_type": "display_data",
          "data": {
            "text/plain": [
              "\u001b[1mModel: \"sequential\"\u001b[0m\n"
            ],
            "text/html": [
              "<pre style=\"white-space:pre;overflow-x:auto;line-height:normal;font-family:Menlo,'DejaVu Sans Mono',consolas,'Courier New',monospace\"><span style=\"font-weight: bold\">Model: \"sequential\"</span>\n",
              "</pre>\n"
            ]
          },
          "metadata": {}
        },
        {
          "output_type": "display_data",
          "data": {
            "text/plain": [
              "┏━━━━━━━━━━━━━━━━━━━━━━━━━━━━━━━━━━━━━━┳━━━━━━━━━━━━━━━━━━━━━━━━━━━━━┳━━━━━━━━━━━━━━━━━┓\n",
              "┃\u001b[1m \u001b[0m\u001b[1mLayer (type)                        \u001b[0m\u001b[1m \u001b[0m┃\u001b[1m \u001b[0m\u001b[1mOutput Shape               \u001b[0m\u001b[1m \u001b[0m┃\u001b[1m \u001b[0m\u001b[1m        Param #\u001b[0m\u001b[1m \u001b[0m┃\n",
              "┡━━━━━━━━━━━━━━━━━━━━━━━━━━━━━━━━━━━━━━╇━━━━━━━━━━━━━━━━━━━━━━━━━━━━━╇━━━━━━━━━━━━━━━━━┩\n",
              "│ conv2d (\u001b[38;5;33mConv2D\u001b[0m)                      │ (\u001b[38;5;45mNone\u001b[0m, \u001b[38;5;34m26\u001b[0m, \u001b[38;5;34m26\u001b[0m, \u001b[38;5;34m64\u001b[0m)          │             \u001b[38;5;34m640\u001b[0m │\n",
              "├──────────────────────────────────────┼─────────────────────────────┼─────────────────┤\n",
              "│ conv2d_1 (\u001b[38;5;33mConv2D\u001b[0m)                    │ (\u001b[38;5;45mNone\u001b[0m, \u001b[38;5;34m24\u001b[0m, \u001b[38;5;34m24\u001b[0m, \u001b[38;5;34m64\u001b[0m)          │          \u001b[38;5;34m36,928\u001b[0m │\n",
              "├──────────────────────────────────────┼─────────────────────────────┼─────────────────┤\n",
              "│ max_pooling2d (\u001b[38;5;33mMaxPooling2D\u001b[0m)         │ (\u001b[38;5;45mNone\u001b[0m, \u001b[38;5;34m12\u001b[0m, \u001b[38;5;34m12\u001b[0m, \u001b[38;5;34m64\u001b[0m)          │               \u001b[38;5;34m0\u001b[0m │\n",
              "├──────────────────────────────────────┼─────────────────────────────┼─────────────────┤\n",
              "│ conv2d_2 (\u001b[38;5;33mConv2D\u001b[0m)                    │ (\u001b[38;5;45mNone\u001b[0m, \u001b[38;5;34m10\u001b[0m, \u001b[38;5;34m10\u001b[0m, \u001b[38;5;34m128\u001b[0m)         │          \u001b[38;5;34m73,856\u001b[0m │\n",
              "├──────────────────────────────────────┼─────────────────────────────┼─────────────────┤\n",
              "│ conv2d_3 (\u001b[38;5;33mConv2D\u001b[0m)                    │ (\u001b[38;5;45mNone\u001b[0m, \u001b[38;5;34m8\u001b[0m, \u001b[38;5;34m8\u001b[0m, \u001b[38;5;34m128\u001b[0m)           │         \u001b[38;5;34m147,584\u001b[0m │\n",
              "├──────────────────────────────────────┼─────────────────────────────┼─────────────────┤\n",
              "│ global_average_pooling2d             │ (\u001b[38;5;45mNone\u001b[0m, \u001b[38;5;34m128\u001b[0m)                 │               \u001b[38;5;34m0\u001b[0m │\n",
              "│ (\u001b[38;5;33mGlobalAveragePooling2D\u001b[0m)             │                             │                 │\n",
              "├──────────────────────────────────────┼─────────────────────────────┼─────────────────┤\n",
              "│ dropout (\u001b[38;5;33mDropout\u001b[0m)                    │ (\u001b[38;5;45mNone\u001b[0m, \u001b[38;5;34m128\u001b[0m)                 │               \u001b[38;5;34m0\u001b[0m │\n",
              "├──────────────────────────────────────┼─────────────────────────────┼─────────────────┤\n",
              "│ dense (\u001b[38;5;33mDense\u001b[0m)                        │ (\u001b[38;5;45mNone\u001b[0m, \u001b[38;5;34m10\u001b[0m)                  │           \u001b[38;5;34m1,290\u001b[0m │\n",
              "└──────────────────────────────────────┴─────────────────────────────┴─────────────────┘\n"
            ],
            "text/html": [
              "<pre style=\"white-space:pre;overflow-x:auto;line-height:normal;font-family:Menlo,'DejaVu Sans Mono',consolas,'Courier New',monospace\">┏━━━━━━━━━━━━━━━━━━━━━━━━━━━━━━━━━━━━━━┳━━━━━━━━━━━━━━━━━━━━━━━━━━━━━┳━━━━━━━━━━━━━━━━━┓\n",
              "┃<span style=\"font-weight: bold\"> Layer (type)                         </span>┃<span style=\"font-weight: bold\"> Output Shape                </span>┃<span style=\"font-weight: bold\">         Param # </span>┃\n",
              "┡━━━━━━━━━━━━━━━━━━━━━━━━━━━━━━━━━━━━━━╇━━━━━━━━━━━━━━━━━━━━━━━━━━━━━╇━━━━━━━━━━━━━━━━━┩\n",
              "│ conv2d (<span style=\"color: #0087ff; text-decoration-color: #0087ff\">Conv2D</span>)                      │ (<span style=\"color: #00d7ff; text-decoration-color: #00d7ff\">None</span>, <span style=\"color: #00af00; text-decoration-color: #00af00\">26</span>, <span style=\"color: #00af00; text-decoration-color: #00af00\">26</span>, <span style=\"color: #00af00; text-decoration-color: #00af00\">64</span>)          │             <span style=\"color: #00af00; text-decoration-color: #00af00\">640</span> │\n",
              "├──────────────────────────────────────┼─────────────────────────────┼─────────────────┤\n",
              "│ conv2d_1 (<span style=\"color: #0087ff; text-decoration-color: #0087ff\">Conv2D</span>)                    │ (<span style=\"color: #00d7ff; text-decoration-color: #00d7ff\">None</span>, <span style=\"color: #00af00; text-decoration-color: #00af00\">24</span>, <span style=\"color: #00af00; text-decoration-color: #00af00\">24</span>, <span style=\"color: #00af00; text-decoration-color: #00af00\">64</span>)          │          <span style=\"color: #00af00; text-decoration-color: #00af00\">36,928</span> │\n",
              "├──────────────────────────────────────┼─────────────────────────────┼─────────────────┤\n",
              "│ max_pooling2d (<span style=\"color: #0087ff; text-decoration-color: #0087ff\">MaxPooling2D</span>)         │ (<span style=\"color: #00d7ff; text-decoration-color: #00d7ff\">None</span>, <span style=\"color: #00af00; text-decoration-color: #00af00\">12</span>, <span style=\"color: #00af00; text-decoration-color: #00af00\">12</span>, <span style=\"color: #00af00; text-decoration-color: #00af00\">64</span>)          │               <span style=\"color: #00af00; text-decoration-color: #00af00\">0</span> │\n",
              "├──────────────────────────────────────┼─────────────────────────────┼─────────────────┤\n",
              "│ conv2d_2 (<span style=\"color: #0087ff; text-decoration-color: #0087ff\">Conv2D</span>)                    │ (<span style=\"color: #00d7ff; text-decoration-color: #00d7ff\">None</span>, <span style=\"color: #00af00; text-decoration-color: #00af00\">10</span>, <span style=\"color: #00af00; text-decoration-color: #00af00\">10</span>, <span style=\"color: #00af00; text-decoration-color: #00af00\">128</span>)         │          <span style=\"color: #00af00; text-decoration-color: #00af00\">73,856</span> │\n",
              "├──────────────────────────────────────┼─────────────────────────────┼─────────────────┤\n",
              "│ conv2d_3 (<span style=\"color: #0087ff; text-decoration-color: #0087ff\">Conv2D</span>)                    │ (<span style=\"color: #00d7ff; text-decoration-color: #00d7ff\">None</span>, <span style=\"color: #00af00; text-decoration-color: #00af00\">8</span>, <span style=\"color: #00af00; text-decoration-color: #00af00\">8</span>, <span style=\"color: #00af00; text-decoration-color: #00af00\">128</span>)           │         <span style=\"color: #00af00; text-decoration-color: #00af00\">147,584</span> │\n",
              "├──────────────────────────────────────┼─────────────────────────────┼─────────────────┤\n",
              "│ global_average_pooling2d             │ (<span style=\"color: #00d7ff; text-decoration-color: #00d7ff\">None</span>, <span style=\"color: #00af00; text-decoration-color: #00af00\">128</span>)                 │               <span style=\"color: #00af00; text-decoration-color: #00af00\">0</span> │\n",
              "│ (<span style=\"color: #0087ff; text-decoration-color: #0087ff\">GlobalAveragePooling2D</span>)             │                             │                 │\n",
              "├──────────────────────────────────────┼─────────────────────────────┼─────────────────┤\n",
              "│ dropout (<span style=\"color: #0087ff; text-decoration-color: #0087ff\">Dropout</span>)                    │ (<span style=\"color: #00d7ff; text-decoration-color: #00d7ff\">None</span>, <span style=\"color: #00af00; text-decoration-color: #00af00\">128</span>)                 │               <span style=\"color: #00af00; text-decoration-color: #00af00\">0</span> │\n",
              "├──────────────────────────────────────┼─────────────────────────────┼─────────────────┤\n",
              "│ dense (<span style=\"color: #0087ff; text-decoration-color: #0087ff\">Dense</span>)                        │ (<span style=\"color: #00d7ff; text-decoration-color: #00d7ff\">None</span>, <span style=\"color: #00af00; text-decoration-color: #00af00\">10</span>)                  │           <span style=\"color: #00af00; text-decoration-color: #00af00\">1,290</span> │\n",
              "└──────────────────────────────────────┴─────────────────────────────┴─────────────────┘\n",
              "</pre>\n"
            ]
          },
          "metadata": {}
        },
        {
          "output_type": "display_data",
          "data": {
            "text/plain": [
              "\u001b[1m Total params: \u001b[0m\u001b[38;5;34m260,298\u001b[0m (1016.79 KB)\n"
            ],
            "text/html": [
              "<pre style=\"white-space:pre;overflow-x:auto;line-height:normal;font-family:Menlo,'DejaVu Sans Mono',consolas,'Courier New',monospace\"><span style=\"font-weight: bold\"> Total params: </span><span style=\"color: #00af00; text-decoration-color: #00af00\">260,298</span> (1016.79 KB)\n",
              "</pre>\n"
            ]
          },
          "metadata": {}
        },
        {
          "output_type": "display_data",
          "data": {
            "text/plain": [
              "\u001b[1m Trainable params: \u001b[0m\u001b[38;5;34m260,298\u001b[0m (1016.79 KB)\n"
            ],
            "text/html": [
              "<pre style=\"white-space:pre;overflow-x:auto;line-height:normal;font-family:Menlo,'DejaVu Sans Mono',consolas,'Courier New',monospace\"><span style=\"font-weight: bold\"> Trainable params: </span><span style=\"color: #00af00; text-decoration-color: #00af00\">260,298</span> (1016.79 KB)\n",
              "</pre>\n"
            ]
          },
          "metadata": {}
        },
        {
          "output_type": "display_data",
          "data": {
            "text/plain": [
              "\u001b[1m Non-trainable params: \u001b[0m\u001b[38;5;34m0\u001b[0m (0.00 B)\n"
            ],
            "text/html": [
              "<pre style=\"white-space:pre;overflow-x:auto;line-height:normal;font-family:Menlo,'DejaVu Sans Mono',consolas,'Courier New',monospace\"><span style=\"font-weight: bold\"> Non-trainable params: </span><span style=\"color: #00af00; text-decoration-color: #00af00\">0</span> (0.00 B)\n",
              "</pre>\n"
            ]
          },
          "metadata": {}
        }
      ],
      "source": [
        "model.summary()"
      ]
    },
    {
      "cell_type": "markdown",
      "metadata": {
        "id": "HfAym2nSwTmH"
      },
      "source": [
        "We use the `compile()` method to specify the optimizer, loss function,\n",
        "and the metrics to monitor. Note that with the JAX and TensorFlow backends,\n",
        "XLA compilation is turned on by default."
      ]
    },
    {
      "cell_type": "code",
      "execution_count": 6,
      "metadata": {
        "id": "4W0nWobUwTmH"
      },
      "outputs": [],
      "source": [
        "model.compile(\n",
        "    loss=keras.losses.SparseCategoricalCrossentropy(),\n",
        "    optimizer=keras.optimizers.Adam(learning_rate=1e-3),\n",
        "    metrics=[\n",
        "        keras.metrics.SparseCategoricalAccuracy(name=\"acc\"),\n",
        "    ],\n",
        ")"
      ]
    },
    {
      "cell_type": "markdown",
      "metadata": {
        "id": "f4BZF7oMwTmH"
      },
      "source": [
        "Let's train and evaluate the model. We'll set aside a validation split of 15%\n",
        "of the data during training to monitor generalization on unseen data."
      ]
    },
    {
      "cell_type": "code",
      "execution_count": 7,
      "metadata": {
        "colab": {
          "base_uri": "https://localhost:8080/"
        },
        "id": "9TVqB4FnwTmH",
        "outputId": "5bd4acc3-4d98-4360-fd4b-062c3943ac1f"
      },
      "outputs": [
        {
          "output_type": "stream",
          "name": "stdout",
          "text": [
            "Epoch 1/20\n",
            "\u001b[1m399/399\u001b[0m \u001b[32m━━━━━━━━━━━━━━━━━━━━\u001b[0m\u001b[37m\u001b[0m \u001b[1m17s\u001b[0m 28ms/step - acc: 0.5471 - loss: 1.2711 - val_acc: 0.9661 - val_loss: 0.1175\n",
            "Epoch 2/20\n",
            "\u001b[1m399/399\u001b[0m \u001b[32m━━━━━━━━━━━━━━━━━━━━\u001b[0m\u001b[37m\u001b[0m \u001b[1m5s\u001b[0m 11ms/step - acc: 0.9312 - loss: 0.2284 - val_acc: 0.9776 - val_loss: 0.0740\n",
            "Epoch 3/20\n",
            "\u001b[1m399/399\u001b[0m \u001b[32m━━━━━━━━━━━━━━━━━━━━\u001b[0m\u001b[37m\u001b[0m \u001b[1m4s\u001b[0m 11ms/step - acc: 0.9569 - loss: 0.1470 - val_acc: 0.9791 - val_loss: 0.0721\n",
            "Epoch 4/20\n",
            "\u001b[1m399/399\u001b[0m \u001b[32m━━━━━━━━━━━━━━━━━━━━\u001b[0m\u001b[37m\u001b[0m \u001b[1m4s\u001b[0m 11ms/step - acc: 0.9642 - loss: 0.1229 - val_acc: 0.9834 - val_loss: 0.0555\n",
            "Epoch 5/20\n",
            "\u001b[1m399/399\u001b[0m \u001b[32m━━━━━━━━━━━━━━━━━━━━\u001b[0m\u001b[37m\u001b[0m \u001b[1m4s\u001b[0m 11ms/step - acc: 0.9714 - loss: 0.0974 - val_acc: 0.9867 - val_loss: 0.0454\n",
            "Epoch 6/20\n",
            "\u001b[1m399/399\u001b[0m \u001b[32m━━━━━━━━━━━━━━━━━━━━\u001b[0m\u001b[37m\u001b[0m \u001b[1m4s\u001b[0m 11ms/step - acc: 0.9745 - loss: 0.0850 - val_acc: 0.9863 - val_loss: 0.0439\n",
            "Epoch 7/20\n",
            "\u001b[1m399/399\u001b[0m \u001b[32m━━━━━━━━━━━━━━━━━━━━\u001b[0m\u001b[37m\u001b[0m \u001b[1m4s\u001b[0m 11ms/step - acc: 0.9777 - loss: 0.0771 - val_acc: 0.9897 - val_loss: 0.0366\n",
            "Epoch 8/20\n",
            "\u001b[1m399/399\u001b[0m \u001b[32m━━━━━━━━━━━━━━━━━━━━\u001b[0m\u001b[37m\u001b[0m \u001b[1m4s\u001b[0m 11ms/step - acc: 0.9802 - loss: 0.0676 - val_acc: 0.9892 - val_loss: 0.0397\n",
            "Epoch 9/20\n",
            "\u001b[1m399/399\u001b[0m \u001b[32m━━━━━━━━━━━━━━━━━━━━\u001b[0m\u001b[37m\u001b[0m \u001b[1m4s\u001b[0m 11ms/step - acc: 0.9804 - loss: 0.0689 - val_acc: 0.9914 - val_loss: 0.0316\n",
            "Epoch 10/20\n",
            "\u001b[1m399/399\u001b[0m \u001b[32m━━━━━━━━━━━━━━━━━━━━\u001b[0m\u001b[37m\u001b[0m \u001b[1m4s\u001b[0m 11ms/step - acc: 0.9828 - loss: 0.0564 - val_acc: 0.9863 - val_loss: 0.0437\n",
            "Epoch 11/20\n",
            "\u001b[1m399/399\u001b[0m \u001b[32m━━━━━━━━━━━━━━━━━━━━\u001b[0m\u001b[37m\u001b[0m \u001b[1m4s\u001b[0m 11ms/step - acc: 0.9838 - loss: 0.0539 - val_acc: 0.9924 - val_loss: 0.0279\n",
            "Epoch 12/20\n",
            "\u001b[1m399/399\u001b[0m \u001b[32m━━━━━━━━━━━━━━━━━━━━\u001b[0m\u001b[37m\u001b[0m \u001b[1m4s\u001b[0m 11ms/step - acc: 0.9857 - loss: 0.0467 - val_acc: 0.9929 - val_loss: 0.0256\n",
            "Epoch 13/20\n",
            "\u001b[1m399/399\u001b[0m \u001b[32m━━━━━━━━━━━━━━━━━━━━\u001b[0m\u001b[37m\u001b[0m \u001b[1m4s\u001b[0m 11ms/step - acc: 0.9867 - loss: 0.0455 - val_acc: 0.9912 - val_loss: 0.0312\n",
            "Epoch 14/20\n",
            "\u001b[1m399/399\u001b[0m \u001b[32m━━━━━━━━━━━━━━━━━━━━\u001b[0m\u001b[37m\u001b[0m \u001b[1m4s\u001b[0m 11ms/step - acc: 0.9868 - loss: 0.0450 - val_acc: 0.9920 - val_loss: 0.0304\n"
          ]
        }
      ],
      "source": [
        "batch_size = 128\n",
        "epochs = 20\n",
        "\n",
        "callbacks = [\n",
        "    keras.callbacks.ModelCheckpoint(filepath=\"model_at_epoch_{epoch}.keras\"),\n",
        "    keras.callbacks.EarlyStopping(monitor=\"val_loss\", patience=2),\n",
        "]\n",
        "\n",
        "model.fit(\n",
        "    x_train,\n",
        "    y_train,\n",
        "    batch_size=batch_size,\n",
        "    epochs=epochs,\n",
        "    validation_split=0.15,\n",
        "    callbacks=callbacks,\n",
        ")\n",
        "score = model.evaluate(x_test, y_test, verbose=0)"
      ]
    },
    {
      "cell_type": "markdown",
      "metadata": {
        "id": "_0hcx0tQwTmH"
      },
      "source": [
        "During training, we were saving a model at the end of each epoch. You\n",
        "can also save the model in its latest state like this:"
      ]
    },
    {
      "cell_type": "code",
      "execution_count": 8,
      "metadata": {
        "id": "GJbK_Cm5wTmI"
      },
      "outputs": [],
      "source": [
        "model.save(\"final_model.keras\")"
      ]
    },
    {
      "cell_type": "markdown",
      "metadata": {
        "id": "v0yFwlp-wTmI"
      },
      "source": [
        "And reload it like this:"
      ]
    },
    {
      "cell_type": "code",
      "execution_count": 9,
      "metadata": {
        "id": "aO37QgdlwTmI"
      },
      "outputs": [],
      "source": [
        "model = keras.saving.load_model(\"final_model.keras\")"
      ]
    },
    {
      "cell_type": "markdown",
      "metadata": {
        "id": "e2AMZhflwTmI"
      },
      "source": [
        "Next, you can query predictions of class probabilities with `predict()`:"
      ]
    },
    {
      "cell_type": "code",
      "execution_count": 17,
      "metadata": {
        "colab": {
          "base_uri": "https://localhost:8080/"
        },
        "id": "JRkn2nWdwTmI",
        "outputId": "8b8d95d5-1818-4acd-a273-71362153f14f"
      },
      "outputs": [
        {
          "output_type": "stream",
          "name": "stdout",
          "text": [
            "\u001b[1m313/313\u001b[0m \u001b[32m━━━━━━━━━━━━━━━━━━━━\u001b[0m\u001b[37m\u001b[0m \u001b[1m0s\u001b[0m 988us/step\n",
            "[7 2 1 ... 4 5 6]\n"
          ]
        }
      ],
      "source": [
        "# @title 기본 제목 텍스트\n",
        "\n",
        "import numpy as np\n",
        "\n",
        "predictions = model.predict(x_test)\n",
        "\n",
        "predicted_classes = np.argmax(predictions, axis=1)\n",
        "\n",
        "print(predicted_classes)"
      ]
    },
    {
      "cell_type": "markdown",
      "metadata": {
        "id": "wv49wroBwTmI"
      },
      "source": [
        "That's it for the basics!"
      ]
    },
    {
      "cell_type": "markdown",
      "metadata": {
        "id": "h87Q6CFBwTmI"
      },
      "source": [
        "## Writing cross-framework custom components\n",
        "\n",
        "Keras enables you to write custom Layers, Models, Metrics, Losses, and Optimizers\n",
        "that work across TensorFlow, JAX, and PyTorch with the same codebase. Let's take a look\n",
        "at custom layers first.\n",
        "\n",
        "The `keras.ops` namespace contains:\n",
        "\n",
        "- An implementation of the NumPy API, e.g. `keras.ops.stack` or `keras.ops.matmul`.\n",
        "- A set of neural network specific ops that are absent from NumPy, such as `keras.ops.conv`\n",
        "or `keras.ops.binary_crossentropy`.\n",
        "\n",
        "Let's make a custom `Dense` layer that works with all backends:"
      ]
    },
    {
      "cell_type": "code",
      "execution_count": null,
      "metadata": {
        "id": "ce-BN4dcwTmI"
      },
      "outputs": [],
      "source": [
        "\n",
        "class MyDense(keras.layers.Layer):\n",
        "    def __init__(self, units, activation=None, name=None):\n",
        "        super().__init__(name=name)\n",
        "        self.units = units\n",
        "        self.activation = keras.activations.get(activation)\n",
        "\n",
        "    def build(self, input_shape):\n",
        "        input_dim = input_shape[-1]\n",
        "        self.w = self.add_weight(\n",
        "            shape=(input_dim, self.units),\n",
        "            initializer=keras.initializers.GlorotNormal(),\n",
        "            name=\"kernel\",\n",
        "            trainable=True,\n",
        "        )\n",
        "\n",
        "        self.b = self.add_weight(\n",
        "            shape=(self.units,),\n",
        "            initializer=keras.initializers.Zeros(),\n",
        "            name=\"bias\",\n",
        "            trainable=True,\n",
        "        )\n",
        "\n",
        "    def call(self, inputs):\n",
        "        # Use Keras ops to create backend-agnostic layers/metrics/etc.\n",
        "        x = keras.ops.matmul(inputs, self.w) + self.b\n",
        "        return self.activation(x)\n"
      ]
    },
    {
      "cell_type": "markdown",
      "metadata": {
        "id": "jLeRcqN8wTmI"
      },
      "source": [
        "Next, let's make a custom `Dropout` layer that relies on the `keras.random`\n",
        "namespace:"
      ]
    },
    {
      "cell_type": "code",
      "execution_count": null,
      "metadata": {
        "id": "MOpRfjt2wTmI"
      },
      "outputs": [],
      "source": [
        "\n",
        "class MyDropout(keras.layers.Layer):\n",
        "    def __init__(self, rate, name=None):\n",
        "        super().__init__(name=name)\n",
        "        self.rate = rate\n",
        "        # Use seed_generator for managing RNG state.\n",
        "        # It is a state element and its seed variable is\n",
        "        # tracked as part of `layer.variables`.\n",
        "        self.seed_generator = keras.random.SeedGenerator(1337)\n",
        "\n",
        "    def call(self, inputs):\n",
        "        # Use `keras.random` for random ops.\n",
        "        return keras.random.dropout(inputs, self.rate, seed=self.seed_generator)\n"
      ]
    },
    {
      "cell_type": "markdown",
      "metadata": {
        "id": "MotSXUh-wTmJ"
      },
      "source": [
        "Next, let's write a custom subclassed model that uses our two custom layers:"
      ]
    },
    {
      "cell_type": "code",
      "execution_count": null,
      "metadata": {
        "id": "cZBaavFFwTmJ"
      },
      "outputs": [],
      "source": [
        "\n",
        "class MyModel(keras.Model):\n",
        "    def __init__(self, num_classes):\n",
        "        super().__init__()\n",
        "        self.conv_base = keras.Sequential(\n",
        "            [\n",
        "                keras.layers.Conv2D(64, kernel_size=(3, 3), activation=\"relu\"),\n",
        "                keras.layers.Conv2D(64, kernel_size=(3, 3), activation=\"relu\"),\n",
        "                keras.layers.MaxPooling2D(pool_size=(2, 2)),\n",
        "                keras.layers.Conv2D(128, kernel_size=(3, 3), activation=\"relu\"),\n",
        "                keras.layers.Conv2D(128, kernel_size=(3, 3), activation=\"relu\"),\n",
        "                keras.layers.GlobalAveragePooling2D(),\n",
        "            ]\n",
        "        )\n",
        "        self.dp = MyDropout(0.5)\n",
        "        self.dense = MyDense(num_classes, activation=\"softmax\")\n",
        "\n",
        "    def call(self, x):\n",
        "        x = self.conv_base(x)\n",
        "        x = self.dp(x)\n",
        "        return self.dense(x)\n"
      ]
    },
    {
      "cell_type": "markdown",
      "metadata": {
        "id": "e59p9g9wwTmJ"
      },
      "source": [
        "Let's compile it and fit it:"
      ]
    },
    {
      "cell_type": "code",
      "execution_count": null,
      "metadata": {
        "id": "0mNgoBGawTmJ"
      },
      "outputs": [],
      "source": [
        "model = MyModel(num_classes=10)\n",
        "model.compile(\n",
        "    loss=keras.losses.SparseCategoricalCrossentropy(),\n",
        "    optimizer=keras.optimizers.Adam(learning_rate=1e-3),\n",
        "    metrics=[\n",
        "        keras.metrics.SparseCategoricalAccuracy(name=\"acc\"),\n",
        "    ],\n",
        ")\n",
        "\n",
        "model.fit(\n",
        "    x_train,\n",
        "    y_train,\n",
        "    batch_size=batch_size,\n",
        "    epochs=1,  # For speed\n",
        "    validation_split=0.15,\n",
        ")"
      ]
    },
    {
      "cell_type": "markdown",
      "metadata": {
        "id": "7lAM2mkkwTmJ"
      },
      "source": [
        "## Training models on arbitrary data sources\n",
        "\n",
        "All Keras models can be trained and evaluated on a wide variety of data sources,\n",
        "independently of the backend you're using. This includes:\n",
        "\n",
        "- NumPy arrays\n",
        "- Pandas dataframes\n",
        "- TensorFlow `tf.data.Dataset` objects\n",
        "- PyTorch `DataLoader` objects\n",
        "- Keras `PyDataset` objects\n",
        "\n",
        "They all work whether you're using TensorFlow, JAX, or PyTorch as your Keras backend.\n",
        "\n",
        "Let's try it out with PyTorch `DataLoaders`:"
      ]
    },
    {
      "cell_type": "code",
      "execution_count": null,
      "metadata": {
        "id": "wHxcu5TwwTmJ"
      },
      "outputs": [],
      "source": [
        "import torch\n",
        "\n",
        "# Create a TensorDataset\n",
        "train_torch_dataset = torch.utils.data.TensorDataset(\n",
        "    torch.from_numpy(x_train), torch.from_numpy(y_train)\n",
        ")\n",
        "val_torch_dataset = torch.utils.data.TensorDataset(\n",
        "    torch.from_numpy(x_test), torch.from_numpy(y_test)\n",
        ")\n",
        "\n",
        "# Create a DataLoader\n",
        "train_dataloader = torch.utils.data.DataLoader(\n",
        "    train_torch_dataset, batch_size=batch_size, shuffle=True\n",
        ")\n",
        "val_dataloader = torch.utils.data.DataLoader(\n",
        "    val_torch_dataset, batch_size=batch_size, shuffle=False\n",
        ")\n",
        "\n",
        "model = MyModel(num_classes=10)\n",
        "model.compile(\n",
        "    loss=keras.losses.SparseCategoricalCrossentropy(),\n",
        "    optimizer=keras.optimizers.Adam(learning_rate=1e-3),\n",
        "    metrics=[\n",
        "        keras.metrics.SparseCategoricalAccuracy(name=\"acc\"),\n",
        "    ],\n",
        ")\n",
        "model.fit(train_dataloader, epochs=1, validation_data=val_dataloader)\n"
      ]
    },
    {
      "cell_type": "markdown",
      "metadata": {
        "id": "QlxL3u6rwTmJ"
      },
      "source": [
        "Now let's try this out with `tf.data`:"
      ]
    },
    {
      "cell_type": "code",
      "execution_count": null,
      "metadata": {
        "id": "o1hUs5nMwTmJ"
      },
      "outputs": [],
      "source": [
        "import tensorflow as tf\n",
        "\n",
        "train_dataset = (\n",
        "    tf.data.Dataset.from_tensor_slices((x_train, y_train))\n",
        "    .batch(batch_size)\n",
        "    .prefetch(tf.data.AUTOTUNE)\n",
        ")\n",
        "test_dataset = (\n",
        "    tf.data.Dataset.from_tensor_slices((x_test, y_test))\n",
        "    .batch(batch_size)\n",
        "    .prefetch(tf.data.AUTOTUNE)\n",
        ")\n",
        "\n",
        "model = MyModel(num_classes=10)\n",
        "model.compile(\n",
        "    loss=keras.losses.SparseCategoricalCrossentropy(),\n",
        "    optimizer=keras.optimizers.Adam(learning_rate=1e-3),\n",
        "    metrics=[\n",
        "        keras.metrics.SparseCategoricalAccuracy(name=\"acc\"),\n",
        "    ],\n",
        ")\n",
        "model.fit(train_dataset, epochs=1, validation_data=test_dataset)"
      ]
    },
    {
      "cell_type": "markdown",
      "metadata": {
        "id": "pmzEFDWIwTmJ"
      },
      "source": [
        "## Further reading\n",
        "\n",
        "This concludes our short overview of the new multi-backend capabilities\n",
        "of Keras 3. Next, you can learn about:\n",
        "\n",
        "### How to customize what happens in `fit()`\n",
        "\n",
        "Want to implement a non-standard training algorithm yourself but still want to benefit from\n",
        "the power and usability of `fit()`? It's easy to customize\n",
        "`fit()` to support arbitrary use cases:\n",
        "\n",
        "- [Customizing what happens in `fit()` with TensorFlow](http://keras.io/guides/custom_train_step_in_tensorflow/)\n",
        "- [Customizing what happens in `fit()` with JAX](http://keras.io/guides/custom_train_step_in_jax/)\n",
        "- [Customizing what happens in `fit()` with PyTorch](http://keras.io/guides/custom_train_step_in_torch/)\n",
        "\n",
        "## How to write custom training loops\n",
        "\n",
        "- [Writing a training loop from scratch in TensorFlow](http://keras.io/guides/writing_a_custom_training_loop_in_tensorflow/)\n",
        "- [Writing a training loop from scratch in JAX](http://keras.io/guides/writing_a_custom_training_loop_in_jax/)\n",
        "- [Writing a training loop from scratch in PyTorch](http://keras.io/guides/writing_a_custom_training_loop_in_torch/)\n",
        "\n",
        "## How to distribute training\n",
        "\n",
        "- [Guide to distributed training with TensorFlow](http://keras.io/guides/distributed_training_with_tensorflow/)\n",
        "- [JAX distributed training example](https://github.com/keras-team/keras/blob/master/examples/demo_jax_distributed.py)\n",
        "- [PyTorch distributed training example](https://github.com/keras-team/keras/blob/master/examples/demo_torch_multi_gpu.py)\n",
        "\n",
        "Enjoy the library! 🚀"
      ]
    }
  ],
  "metadata": {
    "accelerator": "GPU",
    "colab": {
      "name": "intro_to_keras_for_engineers",
      "provenance": [],
      "toc_visible": true
    },
    "kernelspec": {
      "display_name": "Python 3",
      "language": "python",
      "name": "python3"
    },
    "language_info": {
      "codemirror_mode": {
        "name": "ipython",
        "version": 3
      },
      "file_extension": ".py",
      "mimetype": "text/x-python",
      "name": "python",
      "nbconvert_exporter": "python",
      "pygments_lexer": "ipython3",
      "version": "3.7.0"
    }
  },
  "nbformat": 4,
  "nbformat_minor": 0
}